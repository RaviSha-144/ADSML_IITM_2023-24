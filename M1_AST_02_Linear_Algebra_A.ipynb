{
  "nbformat": 4,
  "nbformat_minor": 0,
  "metadata": {
    "colab": {
      "provenance": [],
      "include_colab_link": true
    },
    "kernelspec": {
      "name": "python3",
      "display_name": "Python 3"
    },
    "language_info": {
      "name": "python"
    }
  },
  "cells": [
    {
      "cell_type": "markdown",
      "metadata": {
        "id": "view-in-github",
        "colab_type": "text"
      },
      "source": [
        "<a href=\"https://colab.research.google.com/github/RaviSha-144/ADSML_IITM_2023-24/blob/main/M1_AST_02_Linear_Algebra_A.ipynb\" target=\"_parent\"><img src=\"https://colab.research.google.com/assets/colab-badge.svg\" alt=\"Open In Colab\"/></a>"
      ]
    },
    {
      "cell_type": "markdown",
      "metadata": {
        "id": "3w_kRlo-Qu48"
      },
      "source": [
        "# Applied Data Science and Machine Intelligence\n",
        "## A program by IITM and TalentSprint\n",
        "### Assignment 02: Linear Algebra"
      ]
    },
    {
      "cell_type": "markdown",
      "metadata": {
        "id": "iEu0Dh7QQg4b"
      },
      "source": [
        "Numpy is the core library for scientific computing in Python. It provides a high-performance multidimensional array object, and tools for working with these arrays.\n",
        "\n",
        "To use Numpy, we first need to import the `numpy` package:"
      ]
    },
    {
      "cell_type": "markdown",
      "metadata": {
        "id": "rowuQgeqGJPd"
      },
      "source": [
        "### Setup Steps:"
      ]
    },
    {
      "cell_type": "code",
      "execution_count": null,
      "metadata": {
        "id": "5gISOM1gGJP7"
      },
      "outputs": [],
      "source": [
        "#@title Please enter your registration id to start: { run: \"auto\", display-mode: \"form\" }\n",
        "Id = \"\" #@param {type:\"string\"}"
      ]
    },
    {
      "cell_type": "code",
      "execution_count": null,
      "metadata": {
        "id": "ZcPJGI26GJP8"
      },
      "outputs": [],
      "source": [
        "#@title Please enter your password (your registered phone number) to continue: { run: \"auto\", display-mode: \"form\" }\n",
        "password = \"\" #@param {type:\"string\"}"
      ]
    },
    {
      "cell_type": "code",
      "execution_count": null,
      "metadata": {
        "cellView": "form",
        "id": "MJUJaxBPGJP9"
      },
      "outputs": [],
      "source": [
        "#@title Run this cell to complete the setup for this Notebook\n",
        "from IPython import get_ipython\n",
        "\n",
        "ipython = get_ipython()\n",
        "\n",
        "notebook= \"M1_AST_02_Linear_Algebra_A\" #name of the notebook\n",
        "\n",
        "def setup():\n",
        "#  ipython.magic(\"sx pip3 install torch\")\n",
        "    from IPython.display import HTML, display\n",
        "    display(HTML('<script src=\"https://dashboard.talentsprint.com/aiml/record_ip.html?traineeId={0}&recordId={1}\"></script>'.format(getId(),submission_id)))\n",
        "    print(\"Setup completed successfully\")\n",
        "    return\n",
        "\n",
        "def submit_notebook():\n",
        "    ipython.magic(\"notebook -e \"+ notebook + \".ipynb\")\n",
        "\n",
        "    import requests, json, base64, datetime\n",
        "\n",
        "    url = \"https://dashboard.talentsprint.com/xp/app/save_notebook_attempts\"\n",
        "    if not submission_id:\n",
        "      data = {\"id\" : getId(), \"notebook\" : notebook, \"mobile\" : getPassword()}\n",
        "      r = requests.post(url, data = data)\n",
        "      r = json.loads(r.text)\n",
        "\n",
        "      if r[\"status\"] == \"Success\":\n",
        "          return r[\"record_id\"]\n",
        "      elif \"err\" in r:\n",
        "        print(r[\"err\"])\n",
        "        return None\n",
        "      else:\n",
        "        print (\"Something is wrong, the notebook will not be submitted for grading\")\n",
        "        return None\n",
        "\n",
        "    elif getAnswer() and getComplexity() and getAdditional() and getConcepts() and getComments() and getMentorSupport():\n",
        "      f = open(notebook + \".ipynb\", \"rb\")\n",
        "      file_hash = base64.b64encode(f.read())\n",
        "\n",
        "      data = {\"complexity\" : Complexity, \"additional\" :Additional,\n",
        "              \"concepts\" : Concepts, \"record_id\" : submission_id,\n",
        "              \"answer\" : Answer, \"id\" : Id, \"file_hash\" : file_hash,\n",
        "              \"notebook\" : notebook,\n",
        "              \"feedback_experiments_input\" : Comments,\n",
        "              \"feedback_mentor_support\": Mentor_support}\n",
        "      r = requests.post(url, data = data)\n",
        "      r = json.loads(r.text)\n",
        "      if \"err\" in r:\n",
        "        print(r[\"err\"])\n",
        "        return None\n",
        "      else:\n",
        "        print(\"Your submission is successful.\")\n",
        "        print(\"Ref Id:\", submission_id)\n",
        "        print(\"Date of submission: \", r[\"date\"])\n",
        "        print(\"Time of submission: \", r[\"time\"])\n",
        "        print(\"View your submissions: https://adsml-iitm.talentsprint.com/notebook_submissions\")\n",
        "        #print(\"For any queries/discrepancies, please connect with mentors through the chat icon in LMS dashboard.\")\n",
        "        return submission_id\n",
        "    else: submission_id\n",
        "\n",
        "\n",
        "def getAdditional():\n",
        "  try:\n",
        "    if not Additional:\n",
        "      raise NameError\n",
        "    else:\n",
        "      return Additional\n",
        "  except NameError:\n",
        "    print (\"Please answer Additional Question\")\n",
        "    return None\n",
        "\n",
        "def getComplexity():\n",
        "  try:\n",
        "    if not Complexity:\n",
        "      raise NameError\n",
        "    else:\n",
        "      return Complexity\n",
        "  except NameError:\n",
        "    print (\"Please answer Complexity Question\")\n",
        "    return None\n",
        "\n",
        "def getConcepts():\n",
        "  try:\n",
        "    if not Concepts:\n",
        "      raise NameError\n",
        "    else:\n",
        "      return Concepts\n",
        "  except NameError:\n",
        "    print (\"Please answer Concepts Question\")\n",
        "    return None\n",
        "\n",
        "\n",
        "# def getWalkthrough():\n",
        "#   try:\n",
        "#     if not Walkthrough:\n",
        "#       raise NameError\n",
        "#     else:\n",
        "#       return Walkthrough\n",
        "#   except NameError:\n",
        "#     print (\"Please answer Walkthrough Question\")\n",
        "#     return None\n",
        "\n",
        "def getComments():\n",
        "  try:\n",
        "    if not Comments:\n",
        "      raise NameError\n",
        "    else:\n",
        "      return Comments\n",
        "  except NameError:\n",
        "    print (\"Please answer Comments Question\")\n",
        "    return None\n",
        "\n",
        "\n",
        "def getMentorSupport():\n",
        "  try:\n",
        "    if not Mentor_support:\n",
        "      raise NameError\n",
        "    else:\n",
        "      return Mentor_support\n",
        "  except NameError:\n",
        "    print (\"Please answer Mentor support Question\")\n",
        "    return None\n",
        "\n",
        "def getAnswer():\n",
        "  try:\n",
        "    if not Answer:\n",
        "      raise NameError\n",
        "    else:\n",
        "      return Answer\n",
        "  except NameError:\n",
        "    print (\"Please answer Question\")\n",
        "    return None\n",
        "\n",
        "\n",
        "def getId():\n",
        "  try:\n",
        "    return Id if Id else None\n",
        "  except NameError:\n",
        "    return None\n",
        "\n",
        "def getPassword():\n",
        "  try:\n",
        "    return password if password else None\n",
        "  except NameError:\n",
        "    return None\n",
        "\n",
        "submission_id = None\n",
        "### Setup\n",
        "if getPassword() and getId():\n",
        "  submission_id = submit_notebook()\n",
        "  if submission_id:\n",
        "    setup()\n",
        "else:\n",
        "  print (\"Please complete Id and Password cells before running setup\")\n",
        "\n"
      ]
    },
    {
      "cell_type": "markdown",
      "metadata": {
        "id": "hungry-accident"
      },
      "source": [
        "### Import required packages"
      ]
    },
    {
      "cell_type": "code",
      "metadata": {
        "id": "tYkQMx1GQls4"
      },
      "source": [
        "import matplotlib.pyplot as plt #for creating plot\n",
        "import numpy as np  #for numerical operations\n",
        "import pandas as pd   #for data analysis\n",
        "import math  #for mathematical functions\n",
        "from mpl_toolkits.mplot3d import Axes3D   #for 3D visualizations."
      ],
      "execution_count": null,
      "outputs": []
    },
    {
      "cell_type": "markdown",
      "metadata": {
        "id": "PEoSLo7nQ7jB"
      },
      "source": [
        "###Arrays"
      ]
    },
    {
      "cell_type": "markdown",
      "metadata": {
        "id": "Mk2uY5kdRCyl"
      },
      "source": [
        " An array is a data structure that stores a fixed-size sequential collection of elements of the same type. Arrays are commonly used for storing and manipulating large sets of data efficiently. They provide a way to organize and access elements based on their index position.\n",
        "\n",
        "**NumPy Arrays**:\n",
        "The numpy library is a powerful tool for numerical computing in Python. It provides a multidimensional array object called ndarray, which offers efficient storage and manipulation of arrays. ndarray supports a wide range of operations and functions for mathematical computations on arrays."
      ]
    },
    {
      "cell_type": "markdown",
      "metadata": {
        "id": "ox47lXt8RJst"
      },
      "source": [
        "We can initialize numpy arrays from nested Python lists, and access elements using square brackets:"
      ]
    },
    {
      "cell_type": "code",
      "metadata": {
        "id": "Ouo_cfe9Q1c1"
      },
      "source": [
        "# Create a rank 1 array\n",
        "a = np.array([1, 2, 3])\n",
        "print(type(a), a.shape, a[0], a[1], a[2])\n",
        "# Change an element of the array\n",
        "a[0] = 5\n",
        "print(a)"
      ],
      "execution_count": null,
      "outputs": []
    },
    {
      "cell_type": "code",
      "metadata": {
        "id": "WO2KdgPCROw8"
      },
      "source": [
        "# Create a rank 2 array\n",
        "b = np.array([[1,2,3],[4,5,6]])\n",
        "print(b)"
      ],
      "execution_count": null,
      "outputs": []
    },
    {
      "cell_type": "code",
      "metadata": {
        "id": "HHVsx_tXRZ-y"
      },
      "source": [
        "print(b.shape)\n",
        "print(b[0, 0], b[0, 1], b[1, 0])"
      ],
      "execution_count": null,
      "outputs": []
    },
    {
      "cell_type": "markdown",
      "metadata": {
        "id": "QGYYLwTVRl5e"
      },
      "source": [
        "###Array math"
      ]
    },
    {
      "cell_type": "code",
      "metadata": {
        "id": "FgnZc7KsRbpZ"
      },
      "source": [
        "## Create a rank 2 array, while the datatype as float\n",
        "x = np.array([[1,2],[3,4]], dtype=np.float64) #dtype=np.float64 specify the data type of the arrays\n",
        "y = np.array([[5,6],[7,8]], dtype=np.float64)\n",
        "\n",
        "# YOUR CODE HERE: Elementwise sum; both produce the array"
      ],
      "execution_count": null,
      "outputs": []
    },
    {
      "cell_type": "code",
      "metadata": {
        "id": "gydig8xjRqaa"
      },
      "source": [
        "# YOUR CODE HERE: Elementwise difference; both produce the array"
      ],
      "execution_count": null,
      "outputs": []
    },
    {
      "cell_type": "code",
      "metadata": {
        "id": "9HvTYtMyRvXt"
      },
      "source": [
        "# YOUR CODE HERE: Elementwise product; both produce the array\n"
      ],
      "execution_count": null,
      "outputs": []
    },
    {
      "cell_type": "code",
      "metadata": {
        "id": "H8pZWG_fRxVT"
      },
      "source": [
        "# YOUR CODE HERE: Elementwise division; both produce the array\n"
      ],
      "execution_count": null,
      "outputs": []
    },
    {
      "cell_type": "markdown",
      "metadata": {
        "id": "oPSvLZOtS1j4"
      },
      "source": [
        "##Linear Algebra"
      ]
    },
    {
      "cell_type": "markdown",
      "metadata": {
        "id": "zmXhuawAS7Zv"
      },
      "source": [
        "###Create a two-dimensional vector"
      ]
    },
    {
      "cell_type": "code",
      "metadata": {
        "id": "Fvqbn1teSS5x"
      },
      "source": [
        "# setting x, y\n",
        "vector = [1.4, 1.8]\n",
        "\n",
        "#Creates an arrow plot to represent a vector.\n",
        "plt.arrow(0, 0, vector[0], vector[1], head_width=.10, head_length=0.18, color = 'red')\n",
        "#This function sets the x-axis limits of the plot to -0.5 (minimum) and 2 (maximum)\n",
        "plt.xlim(-0.5,2)\n",
        "#This function sets the y-axis limits of the plot to -0.2 (minimum) and 2 (maximum).\n",
        "plt.ylim(-0.2,2)\n",
        "#This function adds a horizontal line at y=0 to represent the x-axis.\n",
        "plt.axhline(y=0, alpha=.5)\n",
        "#This function adds a vertical line at x=0 to represent the y-axis.\n",
        "plt.axvline(x=0, alpha=.5)\n",
        "#This function adds a grid to the plot, improving readability.\n",
        "plt.grid()\n",
        "plt.title('Vector Examples')\n",
        "plt.show()"
      ],
      "execution_count": null,
      "outputs": []
    },
    {
      "cell_type": "markdown",
      "metadata": {
        "id": "_HepdIFz4smv"
      },
      "source": [
        "###Determinant of a matrix.\n",
        "\n",
        "The determinant of a square matrix is a scalar value that provides important information about the matrix's properties and transformations. It is denoted by det(A), where A is the matrix.\n",
        "\n",
        "\\begin{bmatrix}\n",
        "1 & 2 & 5\\\\\n",
        "3 & 4 & 3\\\\\n",
        "4 & 6 & 7\n",
        "\\end{bmatrix}\n",
        "\n"
      ]
    },
    {
      "cell_type": "code",
      "metadata": {
        "id": "8_hMicWu4smw"
      },
      "source": [
        "#Create a NumPy array C representing a 3x3 matrix. The array is initialized with the given values.\n",
        "C = np.array([[1, 2, 5], [3, 4, 3], [4, 6, 7]])\n",
        "# YOUR CODE HERE: Print det of matrix C"
      ],
      "execution_count": null,
      "outputs": []
    },
    {
      "cell_type": "markdown",
      "metadata": {
        "id": "y-72P-mB4smy"
      },
      "source": [
        "###The Eigenvalues and Eigenvectors\n",
        "\n",
        "Eigenvalues and eigenvectors are important concepts in linear algebra that describe certain properties of square matrices.\n",
        "\n",
        "Given a square matrix A, an eigenvector is a non-zero vector v such that when multiplied by A, it retains its direction, up to a scalar factor. The corresponding scalar factor is called the eigenvalue, denoted by λ.\n",
        "\n",
        "Mathematically, for a matrix A and its eigenvector v, we have:\n",
        "\n",
        "A * v = λ * v\n",
        "\n",
        "\\begin{bmatrix}\n",
        "4 & 5 & 6&\\\\\n",
        "55 & 22 & 1&\\\\\n",
        "6 & 21 & 44&  \n",
        "\\end{bmatrix}\n",
        "\n"
      ]
    },
    {
      "cell_type": "code",
      "metadata": {
        "id": "HP4wP7TX4smz"
      },
      "source": [
        "from numpy import linalg as LA\n",
        "A = np.array([[4, 5, 6], [55, 22, 1], [6, 21, 44]])\n",
        "# YOUR CODE HERE: Print Eig values and vectors of A"
      ],
      "execution_count": null,
      "outputs": []
    },
    {
      "cell_type": "code",
      "source": [],
      "metadata": {
        "id": "BpyKpVreIjZM"
      },
      "execution_count": null,
      "outputs": []
    },
    {
      "cell_type": "markdown",
      "metadata": {
        "id": "xU6XIiz3T5Hf"
      },
      "source": [
        "###Create a three-dimensional vecor"
      ]
    },
    {
      "cell_type": "code",
      "metadata": {
        "id": "WSh8zPiDT7MH"
      },
      "source": [
        "# create a 3D vector\n",
        "\n",
        "vector = [1.2, 1.4, 1.8]\n",
        "\n",
        "\n",
        "vectors = np.array([[0, 0, 0, 1.2, 1.4, 1.8],\n",
        "                    [0, 0, 0, .0, .0, .0],\n",
        "                    [0, 0, 0, .0, .0, .0]])\n",
        "\n",
        "X, Y, Z, U, V, W = zip(*vectors)\n",
        "fig = plt.figure()\n",
        "ax = # YOUR CODE HERE: plot the subplots for with 3d projection\n",
        "ax.quiver(X, Y, Z, U, V, W, length=1)\n",
        "ax.set_xlim([0, 2])\n",
        "ax.set_ylim([0, 2])\n",
        "ax.set_zlim([0, 2])\n",
        "ax.set_xlabel('X')\n",
        "ax.set_ylabel('Y')\n",
        "ax.set_zlabel('Z')\n",
        "plt.show()"
      ],
      "execution_count": null,
      "outputs": []
    },
    {
      "cell_type": "markdown",
      "metadata": {
        "id": "lHen2fqeUn7q"
      },
      "source": [
        "###Scale the vector you created above  by $5$, $\\pi$, and $-e$. What do you notice about these vectors?\n",
        "\n"
      ]
    },
    {
      "cell_type": "code",
      "metadata": {
        "id": "IdNqqylhUOZw"
      },
      "source": [
        "red = np.array([1.4, 1.8])\n",
        "orange = np.multiply(5, red)\n",
        "yellow = red * np.pi\n",
        "green = red * -(np.exp(1))"
      ],
      "execution_count": null,
      "outputs": []
    },
    {
      "cell_type": "code",
      "metadata": {
        "id": "i7QJJ27XU_jt"
      },
      "source": [
        "plt.arrow(0,0, orange[0], orange[1],head_width=.21, head_length=0.18, color ='orange')\n",
        "plt.arrow(0,0, yellow[0], yellow[1],head_width=.21, head_length=0.18, color ='yellow')\n",
        "plt.arrow(0,0, red[0], red[1],head_width=.21, head_length=0.18, color ='red')\n",
        "plt.arrow(0,0, green[0], green[1],head_width=.21, head_length=0.18, color ='green')\n",
        "plt.xlim(-4,8)\n",
        "plt.ylim(-6,10)\n",
        "#plt.axhline(y=0, alpha=.5)\n",
        "#plt.axvline(x=0, alpha=.5)\n",
        "plt.title(\"Scaled Vectors\")\n",
        "plt.grid()\n",
        "plt.show()"
      ],
      "execution_count": null,
      "outputs": []
    },
    {
      "cell_type": "markdown",
      "metadata": {
        "id": "wW0SvsWxYBYa"
      },
      "source": [
        "###Calculate $\\vec{a} - \\vec{b}$."
      ]
    },
    {
      "cell_type": "code",
      "metadata": {
        "id": "A96blvNGVFVw"
      },
      "source": [
        "# plot them again with the new vector\n",
        "aray = np.array([5,7])\n",
        "bray = np.array([3,4])\n",
        "minusv = aray - bray\n",
        "\n",
        "plt.arrow(0,0, aray[0], aray[1],head_width=.28, head_length=0.18, color ='red')\n",
        "plt.arrow(0,0, bray[0], bray[1],head_width=.28, head_length=0.18, color ='blue')\n",
        "plt.arrow(0,0, minusv[0], minusv[1],head_width=.28, head_length=0.18, color ='orange')\n",
        "plt.xlim(-0.5,5.5)\n",
        "plt.ylim(-0.5,8)\n",
        "plt.axhline(y=0, alpha=.5)\n",
        "plt.axvline(x=0, alpha=.5)\n",
        "plt.title(\"Vectors A and B w/ subtraction\")\n",
        "plt.grid()\n",
        "plt.show()"
      ],
      "execution_count": null,
      "outputs": []
    },
    {
      "cell_type": "markdown",
      "metadata": {
        "id": "1hFQihmMPaVc"
      },
      "source": [
        "##Find dot product of $\\vec{c}$ and $\\vec{d}$\n",
        "\n",
        "The dot product, also known as the scalar product or inner product, is an operation performed on two vectors to produce a scalar value. It is a fundamental operation in linear algebra.\n",
        "\n",
        "The dot product between two vectors u and v is calculated by multiplying their corresponding components and summing the results."
      ]
    },
    {
      "cell_type": "markdown",
      "metadata": {
        "id": "1U1yfhdSPoLB"
      },
      "source": [
        "\\begin{align}\n",
        "\\vec{c} = \\begin{bmatrix}7 & 22 & 4 & 16\\end{bmatrix}\n",
        "\\qquad\n",
        "\\vec{d} = \\begin{bmatrix}12 & 6 & 2 & 9\\end{bmatrix}\n",
        "\\end{align}"
      ]
    },
    {
      "cell_type": "code",
      "metadata": {
        "id": "_vqaiFedYK27"
      },
      "source": [
        "c = np.array([7,22,4,16])\n",
        "d = np.array([12,6,2,9])\n",
        "# YOUR CODE HERE: print product of c and d"
      ],
      "execution_count": null,
      "outputs": []
    },
    {
      "cell_type": "markdown",
      "metadata": {
        "id": "pAzE8x7VQCSU"
      },
      "source": [
        "Which is longer? $\\vec{c}$ and $\\vec{d}$\n",
        "\n",
        "The norm of a vector, also known as its magnitude or length, is a measure of the vector's size or magnitude. In mathematics, there are various ways to calculate the norm of a vector, and the most common one is the Euclidean norm, also known as the L2 norm."
      ]
    },
    {
      "cell_type": "code",
      "metadata": {
        "id": "0q1vrjg1P92z"
      },
      "source": [
        "print(np.linalg.norm(c))\n",
        "print(np.linalg.norm(d))"
      ],
      "execution_count": null,
      "outputs": []
    },
    {
      "cell_type": "markdown",
      "metadata": {
        "id": "rRWxirEQQr-K"
      },
      "source": [
        "## **Matrix**\n",
        "\n",
        "What are the dimensions of the following matrices? Which of the following can be multiplied together? See if you can find all of the different legal combinations.\n",
        "\\begin{align}\n",
        "A = \\begin{bmatrix}\n",
        "1 & 2 \\\\\n",
        "3 & 4 \\\\\n",
        "5 & 6\n",
        "\\end{bmatrix}\n",
        "\\qquad\n",
        "B = \\begin{bmatrix}\n",
        "2 & 4 & 6 \\\\\n",
        "\\end{bmatrix}\n",
        "\\qquad\n",
        "C = \\begin{bmatrix}\n",
        "9 & 6 & 3 \\\\\n",
        "4 & 7 & 11\n",
        "\\end{bmatrix}\n",
        "\\qquad\n",
        "D = \\begin{bmatrix}\n",
        "1 & 0 & 0 \\\\\n",
        "0 & 1 & 0 \\\\\n",
        "0 & 0 & 1\n",
        "\\end{bmatrix}\n",
        "\\qquad\n",
        "E = \\begin{bmatrix}\n",
        "1 & 3 \\\\\n",
        "5 & 7\n",
        "\\end{bmatrix}\n",
        "\\end{align}\n",
        "\n",
        "\n",
        "## A = 3x2, B = 1x3, C = 2x3, D = 3x3, E = 2x2"
      ]
    },
    {
      "cell_type": "markdown",
      "metadata": {
        "id": "AxXF2KYGRONe"
      },
      "source": [
        "Find the following products: CD, AE, and BA. What are the dimensions of the resulting matrices? How does that relate to the dimensions of their factor matrices?"
      ]
    },
    {
      "cell_type": "code",
      "metadata": {
        "id": "4i-r-PfwRPfL"
      },
      "source": [
        "# Find products\n",
        "# CD became 2x3\n",
        "# AE became 3x2\n",
        "# BA became 1x2\n",
        "# it looks liek the rows of the product matches the first one multiplied\n",
        "\n",
        "c = np.array([[9,6,3], [4,7,11]])\n",
        "d = np.array([[1,0,0], [0,1,0], [0,0,1]])\n",
        "\n",
        "a = np.array([[1,2], [3,4], [5,6]])\n",
        "e = np.array([[1,3], [5,7]])\n",
        "\n",
        "b = np.array([2,4,6])\n",
        "a = np.array([[1,2], [3,4], [5,6]])\n",
        "\n",
        "# YOUR CODE HERE: print the product of CD\n",
        "# YOUR CODE HERE: print the product of AE\n",
        "# YOUR CODE HERE: print the product of BA"
      ],
      "execution_count": null,
      "outputs": []
    },
    {
      "cell_type": "markdown",
      "metadata": {
        "id": "U7k9LqDBRkDf"
      },
      "source": [
        "### Find $F^{T}$. How are the numbers along the main diagonal (top left to bottom right) of the original matrix and its transpose related? What are the dimensions of $F$? What are the dimensions of $F^{T}$?\n",
        "\n",
        "\\begin{align}\n",
        "F =\n",
        "\\begin{bmatrix}\n",
        "20 & 19 & 18 & 17 \\\\\n",
        "16 & 15 & 14 & 13 \\\\\n",
        "12 & 11 & 10 & 9 \\\\\n",
        "8 & 7 & 6 & 5 \\\\\n",
        "4 & 3 & 2 & 1\n",
        "\\end{bmatrix}\n",
        "\\end{align}"
      ]
    },
    {
      "cell_type": "code",
      "metadata": {
        "id": "ylQcB8O5Rfo7"
      },
      "source": [
        "# make an array then transpose it\n",
        "F = np.array([[20,19,18,17], [16,15,14,13], [12,11,10,9], [8,7,6,5], [4,3,2,1]])\n",
        "\n",
        "print(\"Matrix F:\\n{}\".format(F))\n",
        "# YOUR CODE HERE: print transpose of matrix F"
      ],
      "execution_count": null,
      "outputs": []
    },
    {
      "cell_type": "markdown",
      "metadata": {
        "id": "Up5GUrq3SAoz"
      },
      "source": [
        "\n",
        "\n",
        "### Find inverse of a matrix G.\n",
        "\n",
        "The inverse of a square matrix G is another matrix, denoted as G^(-1), that, when multiplied by G, yields the identity matrix. In other words, if G^(-1) is the inverse of G, then the following equation holds:\n",
        "\n",
        "G * G^(-1) = G^(-1) * G = I\n",
        "\n",
        "where I is the identity matrix.\n",
        "\n",
        "To calculate the inverse of a matrix, you can use various methods, such as numerical algorithms or built-in functions in libraries like NumPy. In NumPy, you can use the numpy.linalg.inv function to compute the inverse of a matrix.\n",
        "\n",
        "\\begin{align}\n",
        "G=\n",
        "\\begin{bmatrix}\n",
        "12 & 11 \\\\\n",
        "7 & 10\n",
        "\\end{bmatrix}\n",
        "\\end{align}"
      ]
    },
    {
      "cell_type": "code",
      "metadata": {
        "id": "P2_AjVhBRoba"
      },
      "source": [
        "g = np.array([[12,11], [7,10]])\n",
        "# YOUR CODE HERE: print inverse of g matrix"
      ],
      "execution_count": null,
      "outputs": []
    },
    {
      "cell_type": "markdown",
      "metadata": {
        "id": "VYJlCfsKSSGf"
      },
      "source": [
        "### Find $|H|$ and then find $|J|$.\n",
        "\n",
        "\\begin{align}\n",
        "H=\n",
        "\\begin{bmatrix}\n",
        "12 & 11 \\\\\n",
        "7 & 10\n",
        "\\end{bmatrix}\n",
        "\\qquad\n",
        "J=\n",
        "\\begin{bmatrix}\n",
        "0 & 1 & 2 \\\\\n",
        "7 & 10 & 4 \\\\\n",
        "3 & 2 & 0\n",
        "\\end{bmatrix}\n",
        "\\end{align}"
      ]
    },
    {
      "cell_type": "code",
      "metadata": {
        "id": "n-OejPLfSKjo"
      },
      "source": [
        "# find the determinants\n",
        "h = np.array([[12,11], [7,10]])\n",
        "j = np.array([[0,1,2], [7,10,4], [3,2,0]])\n",
        "\n",
        "# YOUR CODE HERE: print determinant of h\n",
        "# YOUR CODE HERE: print determinant of j"
      ],
      "execution_count": null,
      "outputs": []
    },
    {
      "cell_type": "markdown",
      "metadata": {
        "id": "oexU-X6DScJ3"
      },
      "source": [
        "### Find $H^{-1}$ and then find $J^{-1}$"
      ]
    },
    {
      "cell_type": "code",
      "metadata": {
        "id": "MMyhe99RSdHW"
      },
      "source": [
        "h = np.array([[12,11], [7,10]])\n",
        "j = np.array([[0,1,2], [7,10,4], [3,2,0]])\n",
        "\n",
        "print(h)\n",
        "# YOUR CODE HERE: print inverse of h matrix\n",
        "print(\" \")\n",
        "print(j)\n",
        "# YOUR CODE HERE: print inverse of j matrix"
      ],
      "execution_count": null,
      "outputs": []
    },
    {
      "cell_type": "markdown",
      "metadata": {
        "id": "tKKLfPEGSlf1"
      },
      "source": [
        "### Find $HH^{-1}$ and then find $G^{-1}G$. Is $HH^{-1} == G^{-1}G$? Why or Why not?"
      ]
    },
    {
      "cell_type": "code",
      "metadata": {
        "id": "cvJMgQxPSmS_"
      },
      "source": [
        "h = np.array([[12,11], [7,10]])\n",
        "g = np.array([[12,11], [7,10]])\n",
        "\n",
        "print(h)\n",
        "# YOUR CODE HERE: print inverse of h matrix\n",
        "\n",
        "print(\" \")\n",
        "print(g)\n",
        "# YOUR CODE HERE: print inverse of g matrix\n",
        "print(' ')\n",
        "HH = np.dot(h, invh)\n",
        "GG = np.dot(g, invg)\n",
        "print(HH)\n",
        "print(' ')\n",
        "print(GG)"
      ],
      "execution_count": null,
      "outputs": []
    },
    {
      "cell_type": "markdown",
      "metadata": {
        "id": "1wF8GdMjWNK-"
      },
      "source": [
        "\n",
        "### Find Psuedo inverse of F.\n",
        "\n",
        "\\begin{align}\n",
        "F =\n",
        "\\begin{bmatrix}\n",
        "20 & 19 & 18 & 17 \\\\\n",
        "16 & 15 & 14 & 13 \\\\\n",
        "12 & 11 & 10 & 9 \\\\\n",
        "8 & 7 & 6 & 5 \\\\\n",
        "4 & 3 & 2 & 1\n",
        "\\end{bmatrix}\n",
        "\\end{align}"
      ]
    },
    {
      "cell_type": "code",
      "metadata": {
        "id": "1-81KCPrWMUH"
      },
      "source": [
        "F = np.array([[20,19,18,17], [16,15,14,13], [12,11,10,9], [8,7,6,5], [4,3,2,1]])\n",
        "# YOUR CODE HERE: print psuedo inverse of F"
      ],
      "execution_count": null,
      "outputs": []
    },
    {
      "cell_type": "code",
      "metadata": {
        "id": "YE_prdzpRYHW"
      },
      "source": [
        "# YOUR CODE HERE: print rank of F matrix"
      ],
      "execution_count": null,
      "outputs": []
    },
    {
      "cell_type": "markdown",
      "metadata": {
        "id": "RGjZZzmdVcrf"
      },
      "source": [
        "Solve the system of equations\n",
        "\n",
        "$x_0 + 2x_1 = 1$\n",
        "\n",
        "$3x_0 + 5x_1 = 2$\n",
        "\n"
      ]
    },
    {
      "cell_type": "code",
      "metadata": {
        "id": "XPp34HzkVoXV"
      },
      "source": [
        "a = np.array([[1, 2], [3, 5]])\n",
        "b = np.array([1,2])\n",
        "# YOUR CODE HERE: solve a system of linear equations of the form AX = B\n"
      ],
      "execution_count": null,
      "outputs": []
    },
    {
      "cell_type": "markdown",
      "metadata": {
        "id": "18lLKrppGRga"
      },
      "source": [
        "## Please answer the questions below to complete the experiment:\n",
        "\n",
        "\n"
      ]
    },
    {
      "cell_type": "code",
      "execution_count": null,
      "metadata": {
        "id": "8zgasCqfGRgl"
      },
      "outputs": [],
      "source": [
        "# @title If two matrices of sizes (4 X 3) and (2 X 3) are multiplied, then what is the size of the resultant matrix?  { run: \"auto\", form-width: \"500px\", display-mode: \"form\" }\n",
        "Answer = \"\" #@param [\"\", \"Cannot multiply them\", \"4 X 2\",\"3 X 3\",\"4 X 3\"]"
      ]
    },
    {
      "cell_type": "code",
      "execution_count": null,
      "metadata": {
        "id": "VSxIlFxmGRgl"
      },
      "outputs": [],
      "source": [
        "#@title How was the experiment? { run: \"auto\", form-width: \"500px\", display-mode: \"form\" }\n",
        "Complexity = \"\" #@param [\"\",\"Too Simple, I am wasting time\", \"Good, But Not Challenging for me\", \"Good and Challenging for me\", \"Was Tough, but I did it\", \"Too Difficult for me\"]\n"
      ]
    },
    {
      "cell_type": "code",
      "execution_count": null,
      "metadata": {
        "id": "qmB4vC73GRgl"
      },
      "outputs": [],
      "source": [
        "#@title If it was too easy, what more would you have liked to be added? If it was very difficult, what would you have liked to have been removed? { run: \"auto\", display-mode: \"form\" }\n",
        "Additional = \"\" #@param {type:\"string\"}\n"
      ]
    },
    {
      "cell_type": "code",
      "execution_count": null,
      "metadata": {
        "id": "Ls-mCNBlGRgl"
      },
      "outputs": [],
      "source": [
        "#@title Can you identify the concepts from the lecture which this experiment covered? { run: \"auto\", vertical-output: true, display-mode: \"form\" }\n",
        "Concepts = \"\" #@param [\"\",\"Yes\", \"No\"]\n"
      ]
    },
    {
      "cell_type": "code",
      "execution_count": null,
      "metadata": {
        "id": "d3Amjl-tGRgm"
      },
      "outputs": [],
      "source": [
        "#@title  Text and image description/explanation and code comments within the experiment: { run: \"auto\", vertical-output: true, display-mode: \"form\" }\n",
        "Comments = \"\" #@param [\"\",\"Very Useful\", \"Somewhat Useful\", \"Not Useful\", \"Didn't use\"]\n"
      ]
    },
    {
      "cell_type": "code",
      "execution_count": null,
      "metadata": {
        "id": "3DP0UXP8GRgm"
      },
      "outputs": [],
      "source": [
        "#@title Mentor Support: { run: \"auto\", vertical-output: true, display-mode: \"form\" }\n",
        "Mentor_support = \"\" #@param [\"\",\"Very Useful\", \"Somewhat Useful\", \"Not Useful\", \"Didn't use\"]\n"
      ]
    },
    {
      "cell_type": "code",
      "execution_count": null,
      "metadata": {
        "cellView": "form",
        "id": "eGP_FMCoGRgm"
      },
      "outputs": [],
      "source": [
        "#@title Run this cell to submit your notebook for grading { vertical-output: true }\n",
        "try:\n",
        "  if submission_id:\n",
        "      return_id = submit_notebook()\n",
        "      if return_id : submission_id = return_id\n",
        "  else:\n",
        "      print(\"Please complete the setup first.\")\n",
        "except NameError:\n",
        "  print (\"Please complete the setup first.\")"
      ]
    }
  ]
}